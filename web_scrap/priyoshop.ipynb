{
 "cells": [
  {
   "cell_type": "markdown",
   "metadata": {
    "collapsed": true,
    "pycharm": {
     "name": "#%% md\n"
    }
   },
   "source": [
    "Import Packages"
   ]
  },
  {
   "cell_type": "code",
   "execution_count": 23,
   "outputs": [],
   "source": [
    "from bs4 import BeautifulSoup as Bs\n",
    "import requests\n",
    "import json"
   ],
   "metadata": {
    "collapsed": false,
    "pycharm": {
     "name": "#%%\n"
    }
   }
  },
  {
   "cell_type": "markdown",
   "source": [
    "Get the data from the website"
   ],
   "metadata": {
    "collapsed": false,
    "pycharm": {
     "name": "#%% md\n"
    }
   }
  },
  {
   "cell_type": "code",
   "execution_count": 24,
   "outputs": [],
   "source": [
    "base_url = 'https://priyoshop.com'\n",
    "r = requests.get(base_url + \"/books#/pageSize=60\")\n",
    "soup = Bs(r.content, 'html.parser')\n",
    "products = []"
   ],
   "metadata": {
    "collapsed": false,
    "pycharm": {
     "name": "#%%\n"
    }
   }
  },
  {
   "cell_type": "markdown",
   "source": [
    "Process items"
   ],
   "metadata": {
    "collapsed": false,
    "pycharm": {
     "name": "#%% md\n"
    }
   }
  },
  {
   "cell_type": "code",
   "execution_count": 25,
   "outputs": [],
   "source": [
    "def get_product_description(product_url1):\n",
    "    pr = requests.get(product_url1)\n",
    "    p_soup = Bs(pr.content, 'html.parser')\n",
    "    return p_soup.find('div', {'class': 'full-description'}).text"
   ],
   "metadata": {
    "collapsed": false,
    "pycharm": {
     "name": "#%%\n"
    }
   }
  },
  {
   "cell_type": "code",
   "execution_count": 26,
   "outputs": [],
   "source": [
    "items = soup.find_all('div', {'class': 'product-item'})\n",
    "for item in items:\n",
    "    name = item.find('h2', {'class': 'product-title'}).text\n",
    "    price = item.find('span', {'class': 'price actual-price'}).text\n",
    "    product_url = base_url + item.find('h2', {'class': 'product-title'}).find('a')['href']\n",
    "    description = get_product_description(product_url)\n",
    "    image_url = item.find('img')['src']\n",
    "    products.append({\n",
    "        'name': name,\n",
    "        'price': price,\n",
    "        'description': description,\n",
    "        'imageUrl': image_url,\n",
    "        'productUrl': product_url\n",
    "    })"
   ],
   "metadata": {
    "collapsed": false,
    "pycharm": {
     "name": "#%%\n"
    }
   }
  },
  {
   "cell_type": "markdown",
   "source": [
    "Save the data to a json file"
   ],
   "metadata": {
    "collapsed": false,
    "pycharm": {
     "name": "#%% md\n"
    }
   }
  },
  {
   "cell_type": "code",
   "execution_count": 27,
   "outputs": [
    {
     "name": "stdout",
     "output_type": "stream",
     "text": [
      "30 products saved to priyoshop.json\n"
     ]
    }
   ],
   "source": [
    "with open('priyoshop.json', 'w+') as f:\n",
    "    f.write(json.dumps(products, indent=4))\n",
    "print(f\"{len(products)} products saved to priyoshop.json\")"
   ],
   "metadata": {
    "collapsed": false,
    "pycharm": {
     "name": "#%%\n"
    }
   }
  },
  {
   "cell_type": "code",
   "execution_count": 27,
   "outputs": [],
   "source": [],
   "metadata": {
    "collapsed": false,
    "pycharm": {
     "name": "#%%\n"
    }
   }
  }
 ],
 "metadata": {
  "kernelspec": {
   "display_name": "Python 3",
   "language": "python",
   "name": "python3"
  },
  "language_info": {
   "codemirror_mode": {
    "name": "ipython",
    "version": 2
   },
   "file_extension": ".py",
   "mimetype": "text/x-python",
   "name": "python",
   "nbconvert_exporter": "python",
   "pygments_lexer": "ipython2",
   "version": "2.7.6"
  }
 },
 "nbformat": 4,
 "nbformat_minor": 0
}